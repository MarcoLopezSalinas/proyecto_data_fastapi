{
 "cells": [
  {
   "cell_type": "code",
   "execution_count": 1,
   "id": "b10be617",
   "metadata": {},
   "outputs": [],
   "source": [
    "import pandas as pd\n",
    "import requests\n"
   ]
  },
  {
   "cell_type": "code",
   "execution_count": null,
   "id": "ad8540d7",
   "metadata": {},
   "outputs": [],
   "source": [
    "ruta_hired_employees = \"archivos/hired_employees.csv\"\n",
    "ruta_departments = \"archivos/departments.csv\"\n",
    "ruta_jobs = \"archivos/hired_employees.csv\""
   ]
  },
  {
   "cell_type": "code",
   "execution_count": 3,
   "id": "ff17ffdc",
   "metadata": {},
   "outputs": [],
   "source": [
    "columns_names_hired_employees = [\"id\", \"name\", \"datetime\", \"department_id\", \"job_id\"]\n",
    "columns_names_departments = [\"id\", \"department\"]\n",
    "columns_names_jobs = [\"id\", \"job\"]"
   ]
  },
  {
   "cell_type": "code",
   "execution_count": 14,
   "id": "3629ad8e",
   "metadata": {},
   "outputs": [],
   "source": [
    "API_URL_hired_employees = \"http://localhost:8000/hired_employees/batch_insert\"\n",
    "API_URL_deparments = \"http://localhost:8000/departments/batch_insert\""
   ]
  },
  {
   "cell_type": "code",
   "execution_count": null,
   "id": "129b8f39",
   "metadata": {},
   "outputs": [],
   "source": [
    "def send_information_to_api(ruta,api_url,columns_names,chunk_size=1000):\n",
    "    \"\"\"\n",
    "    Envía información de empleados contratados a la API en chunks de 1000 registros.\n",
    "    \"\"\"\n",
    "    for i, chunk in enumerate(pd.read_csv(ruta, header=None, chunksize=chunk_size)):\n",
    "        \n",
    "        chunk.columns = columns_names # 1. Asignar nombres de columnas\n",
    "        chunk = chunk.astype(object)  # 2. Cambiar tipo de datos a object para permitir None reales\n",
    "        chunk = chunk.where(pd.notnull(chunk), None)  # 3. Reemplazar NaN por None\n",
    "        \n",
    "        data = chunk.to_dict(orient=\"records\")# 4. Convertir a JSON\n",
    "        # 5. Enviar a la API\n",
    "        response = requests.post(api_url, json=data)\n",
    "\n",
    "        if response.status_code == 200:\n",
    "            print(f\"✅ Chunk {i+1} enviado con éxito ({len(data)} registros)\")\n",
    "        else:\n",
    "            print(f\"❌ Error en chunk {i+1}: {response.status_code} - {response.text}\")\n",
    "            break  # Detener en caso de error"
   ]
  },
  {
   "cell_type": "code",
   "execution_count": null,
   "id": "3837e671",
   "metadata": {},
   "outputs": [
    {
     "name": "stdout",
     "output_type": "stream",
     "text": [
      "✅ Chunk 1 enviado con éxito (1000 registros)\n",
      "✅ Chunk 2 enviado con éxito (999 registros)\n"
     ]
    }
   ],
   "source": [
    "# Enviar información de empleados contratados a la API\n",
    "send_information_to_api(ruta_hired_employees,\n",
    "                        API_URL_hired_employees,\n",
    "                        columns_names_hired_employees,\n",
    "                        chunk_size=1000)"
   ]
  },
  {
   "cell_type": "code",
   "execution_count": null,
   "id": "275cfbf4",
   "metadata": {},
   "outputs": [],
   "source": [
    "# Enviar información de empleados contratados a la API\n",
    "send_information_to_api(ruta_departments,\n",
    "                        API_URL_deparments,\n",
    "                        columns_names_departments,\n",
    "                        chunk_size=1000)"
   ]
  },
  {
   "cell_type": "code",
   "execution_count": null,
   "id": "3379fd19",
   "metadata": {},
   "outputs": [
    {
     "name": "stdout",
     "output_type": "stream",
     "text": [
      "✅ Chunk 1 enviado con éxito (1000 registros)\n",
      "✅ Chunk 2 enviado con éxito (999 registros)\n"
     ]
    }
   ],
   "source": [
    "API_URL = \"http://localhost:8000/hired_employees/batch_insert\"\n",
    "def send_information_to_api():\n",
    "    \"\"\"\n",
    "    Envía información de empleados contratados a la API en chunks de 1000 registros.\n",
    "    \"\"\"\n",
    "    # 1. Leer el archivo CSV en chunks de 1000 filas\n",
    "    # 2. Asignar nombres de columnas\n",
    "    # 3. Cambiar tipo de datos a object para permitir None reales\n",
    "    # 4. Reemplazar NaN por None\n",
    "    # 5. Convertir a JSON\n",
    "    # 6. Enviar a la API\n",
    "    \n",
    "for i, chunk in enumerate(pd.read_csv(\"archivos/hired_employees.csv\", header=None, chunksize=1000)):\n",
    "    # 1. Asignar nombres de columnas\n",
    "    chunk.columns = [\"id\", \"name\", \"datetime\", \"department_id\", \"job_id\"]\n",
    "\n",
    "    # 2. Cambiar tipo de datos a object para permitir None reales\n",
    "    chunk = chunk.astype(object)\n",
    "\n",
    "    # 3. Reemplazar NaN por None\n",
    "    chunk = chunk.where(pd.notnull(chunk), None)\n",
    "\n",
    "    # 4. Convertir a JSON\n",
    "    data = chunk.to_dict(orient=\"records\")\n",
    "\n",
    "    # 5. Enviar a la API\n",
    "    response = requests.post(API_URL, json=data)\n",
    "\n",
    "    if response.status_code == 200:\n",
    "        print(f\"✅ Chunk {i+1} enviado con éxito ({len(data)} registros)\")\n",
    "    else:\n",
    "        print(f\"❌ Error en chunk {i+1}: {response.status_code} - {response.text}\")\n",
    "        break  # Detener en caso de error\n"
   ]
  }
 ],
 "metadata": {
  "kernelspec": {
   "display_name": "venv",
   "language": "python",
   "name": "python3"
  },
  "language_info": {
   "codemirror_mode": {
    "name": "ipython",
    "version": 3
   },
   "file_extension": ".py",
   "mimetype": "text/x-python",
   "name": "python",
   "nbconvert_exporter": "python",
   "pygments_lexer": "ipython3",
   "version": "3.13.3"
  }
 },
 "nbformat": 4,
 "nbformat_minor": 5
}
