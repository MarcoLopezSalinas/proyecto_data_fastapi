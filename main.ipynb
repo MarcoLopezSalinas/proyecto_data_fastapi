{
 "cells": [
  {
   "cell_type": "code",
   "execution_count": 1,
   "id": "07597e27",
   "metadata": {},
   "outputs": [],
   "source": [
    "import pandas as pd\n",
    "import requests\n",
    "import logging\n",
    "from typing import List, Optional\n",
    "from requests.exceptions import RequestException"
   ]
  },
  {
   "cell_type": "code",
   "execution_count": 2,
   "id": "735c955b",
   "metadata": {},
   "outputs": [],
   "source": [
    "# Configurar logging\n",
    "logging.basicConfig(level=logging.INFO, format=\"%(asctime)s - %(levelname)s - %(message)s\")\n",
    "logger = logging.getLogger(__name__)"
   ]
  },
  {
   "cell_type": "code",
   "execution_count": 3,
   "id": "8a39d90c",
   "metadata": {},
   "outputs": [],
   "source": [
    "# Configuración de archivos y endpoints\n",
    "#ruta_hired_employees = \"archivos/hired_employees.csv\"\n",
    "ruta_hired_employees = \"archivos/employees.csv\"\n",
    "ruta_departments = \"archivos/departments.csv\"\n",
    "ruta_jobs = \"archivos/Jobs.csv\""
   ]
  },
  {
   "cell_type": "code",
   "execution_count": 4,
   "id": "bb174eac",
   "metadata": {},
   "outputs": [],
   "source": [
    "columns_names_hired_employees = [\"id\", \"name\", \"datetime\", \"department_id\", \"job_id\"]\n",
    "columns_names_departments = [\"id\", \"department\"]\n",
    "columns_names_jobs = [\"id\", \"job\"]"
   ]
  },
  {
   "cell_type": "code",
   "execution_count": 5,
   "id": "de90f6bb",
   "metadata": {},
   "outputs": [],
   "source": [
    "API_URL_hired_employees = \"http://localhost:8000/hired_employees/batch_insert\"\n",
    "API_URL_deparments = \"http://localhost:8000/departments/batch_insert\"\n",
    "API_URL_jobs = \"http://localhost:8000/jobs/batch_insert\""
   ]
  },
  {
   "cell_type": "code",
   "execution_count": 6,
   "id": "624ee5ba",
   "metadata": {},
   "outputs": [],
   "source": [
    "def leer_csv_en_chunks(ruta: str, chunk_size: int) -> pd.io.parsers.TextFileReader:\n",
    "    \"\"\"Lee un archivo CSV por chunks.\"\"\"\n",
    "    return pd.read_csv(ruta, header=None, chunksize=chunk_size)"
   ]
  },
  {
   "cell_type": "code",
   "execution_count": 7,
   "id": "d0e17de4",
   "metadata": {},
   "outputs": [],
   "source": [
    "def transformar_chunk(chunk: pd.DataFrame, columnas: List[str]) -> pd.DataFrame:\n",
    "    \"\"\"Asigna columnas, convierte tipos y reemplaza NaN por None.\"\"\"\n",
    "    chunk.columns = columnas\n",
    "    chunk = chunk.astype(object)\n",
    "    return chunk.where(pd.notnull(chunk), None)"
   ]
  },
  {
   "cell_type": "code",
   "execution_count": 8,
   "id": "f649fe0b",
   "metadata": {},
   "outputs": [],
   "source": [
    "def convertir_a_json(chunk: pd.DataFrame) -> List[dict]:\n",
    "    \"\"\"Convierte un DataFrame a lista de diccionarios (JSON).\"\"\"\n",
    "    return chunk.to_dict(orient=\"records\")"
   ]
  },
  {
   "cell_type": "code",
   "execution_count": 9,
   "id": "3d80d13b",
   "metadata": {},
   "outputs": [],
   "source": [
    "def enviar_a_api(api_url: str, data: List[dict]) -> Optional[requests.Response]:\n",
    "    \"\"\"Envía datos en formato JSON a la API y devuelve la respuesta.\"\"\"\n",
    "    try:\n",
    "        response = requests.post(api_url, json=data, timeout=10)\n",
    "        response.raise_for_status()\n",
    "        return response\n",
    "    except RequestException as e:\n",
    "        # Mostrar el contenido de la respuesta si está disponible\n",
    "        if hasattr(e, 'response') and e.response is not None:\n",
    "            logger.error(f\"Error al enviar datos a la API ({api_url}): {e.response.text}\")\n",
    "        else:\n",
    "            logger.error(f\"Error al enviar datos a la API ({api_url}): {e}\")\n",
    "        return None"
   ]
  },
  {
   "cell_type": "code",
   "execution_count": null,
   "id": "0a916c98",
   "metadata": {},
   "outputs": [],
   "source": [
    "def procesar_y_enviar_csv(\n",
    "    ruta: str,\n",
    "    columnas: List[str],\n",
    "    api_url: str,\n",
    "    chunk_size: int = 5000\n",
    ") -> None:\n",
    "    \"\"\"Proceso completo de lectura, transformación y envío a API.\"\"\"\n",
    "    for i, chunk in enumerate(leer_csv_en_chunks(ruta, chunk_size)):\n",
    "        df = transformar_chunk(chunk, columnas)\n",
    "        json_data = convertir_a_json(df)\n",
    "        response = enviar_a_api(api_url, json_data)\n",
    "\n",
    "        if response:\n",
    "            logger.info(f\"[{api_url}] Chunk {i+1} enviado con éxito ({len(json_data)} registros)\")\n",
    "        else:\n",
    "            logger.error(f\"[{api_url}] Error en el envío del chunk {i+1}\")\n",
    "            break  # Detener en caso de error"
   ]
  },
  {
   "cell_type": "code",
   "execution_count": 11,
   "id": "13dee901",
   "metadata": {},
   "outputs": [],
   "source": [
    "def main() -> None:\n",
    "    \"\"\"Función principal del proceso ETL.\"\"\"\n",
    "    logger.info(\"Iniciando carga de datos...\")\n",
    "\n",
    "    procesar_y_enviar_csv(ruta_departments, columns_names_departments, API_URL_deparments)\n",
    "    procesar_y_enviar_csv(ruta_jobs, columns_names_jobs, API_URL_jobs)\n",
    "    procesar_y_enviar_csv(ruta_hired_employees, columns_names_hired_employees, API_URL_hired_employees)\n",
    "\n",
    "    logger.info(\"Carga de datos finalizada.\")"
   ]
  },
  {
   "cell_type": "code",
   "execution_count": 12,
   "id": "a2339ab0",
   "metadata": {},
   "outputs": [
    {
     "name": "stderr",
     "output_type": "stream",
     "text": [
      "2025-08-12 23:02:19,790 - INFO - Iniciando carga de datos...\n",
      "2025-08-12 23:02:21,899 - INFO - [http://localhost:8000/departments/batch_insert] Chunk 1 enviado con éxito (12 registros)\n",
      "2025-08-12 23:02:23,991 - INFO - [http://localhost:8000/jobs/batch_insert] Chunk 1 enviado con éxito (183 registros)\n",
      "2025-08-12 23:02:26,126 - INFO - [http://localhost:8000/hired_employees/batch_insert] Chunk 1 enviado con éxito (2000 registros)\n",
      "2025-08-12 23:02:28,255 - INFO - [http://localhost:8000/hired_employees/batch_insert] Chunk 2 enviado con éxito (2000 registros)\n",
      "2025-08-12 23:02:30,387 - INFO - [http://localhost:8000/hired_employees/batch_insert] Chunk 3 enviado con éxito (2000 registros)\n",
      "2025-08-12 23:02:32,545 - INFO - [http://localhost:8000/hired_employees/batch_insert] Chunk 4 enviado con éxito (2000 registros)\n",
      "2025-08-12 23:02:34,691 - INFO - [http://localhost:8000/hired_employees/batch_insert] Chunk 5 enviado con éxito (2000 registros)\n",
      "2025-08-12 23:02:36,789 - INFO - [http://localhost:8000/hired_employees/batch_insert] Chunk 6 enviado con éxito (2000 registros)\n",
      "2025-08-12 23:02:38,925 - INFO - [http://localhost:8000/hired_employees/batch_insert] Chunk 7 enviado con éxito (2000 registros)\n",
      "2025-08-12 23:02:41,042 - INFO - [http://localhost:8000/hired_employees/batch_insert] Chunk 8 enviado con éxito (2000 registros)\n",
      "2025-08-12 23:02:43,237 - INFO - [http://localhost:8000/hired_employees/batch_insert] Chunk 9 enviado con éxito (2000 registros)\n",
      "2025-08-12 23:02:45,374 - INFO - [http://localhost:8000/hired_employees/batch_insert] Chunk 10 enviado con éxito (2000 registros)\n",
      "2025-08-12 23:02:47,507 - INFO - [http://localhost:8000/hired_employees/batch_insert] Chunk 11 enviado con éxito (2000 registros)\n",
      "2025-08-12 23:02:49,646 - INFO - [http://localhost:8000/hired_employees/batch_insert] Chunk 12 enviado con éxito (2000 registros)\n",
      "2025-08-12 23:02:51,800 - INFO - [http://localhost:8000/hired_employees/batch_insert] Chunk 13 enviado con éxito (2000 registros)\n",
      "2025-08-12 23:02:53,951 - INFO - [http://localhost:8000/hired_employees/batch_insert] Chunk 14 enviado con éxito (2000 registros)\n",
      "2025-08-12 23:02:56,092 - INFO - [http://localhost:8000/hired_employees/batch_insert] Chunk 15 enviado con éxito (2000 registros)\n",
      "2025-08-12 23:02:58,266 - INFO - [http://localhost:8000/hired_employees/batch_insert] Chunk 16 enviado con éxito (2000 registros)\n",
      "2025-08-12 23:03:00,413 - INFO - [http://localhost:8000/hired_employees/batch_insert] Chunk 17 enviado con éxito (2000 registros)\n",
      "2025-08-12 23:03:02,571 - INFO - [http://localhost:8000/hired_employees/batch_insert] Chunk 18 enviado con éxito (2000 registros)\n",
      "2025-08-12 23:03:04,737 - INFO - [http://localhost:8000/hired_employees/batch_insert] Chunk 19 enviado con éxito (2000 registros)\n",
      "2025-08-12 23:03:06,868 - INFO - [http://localhost:8000/hired_employees/batch_insert] Chunk 20 enviado con éxito (2000 registros)\n",
      "2025-08-12 23:03:09,029 - INFO - [http://localhost:8000/hired_employees/batch_insert] Chunk 21 enviado con éxito (2000 registros)\n",
      "2025-08-12 23:03:11,197 - INFO - [http://localhost:8000/hired_employees/batch_insert] Chunk 22 enviado con éxito (2000 registros)\n",
      "2025-08-12 23:03:13,376 - INFO - [http://localhost:8000/hired_employees/batch_insert] Chunk 23 enviado con éxito (2000 registros)\n",
      "2025-08-12 23:03:15,505 - INFO - [http://localhost:8000/hired_employees/batch_insert] Chunk 24 enviado con éxito (2000 registros)\n",
      "2025-08-12 23:03:17,668 - INFO - [http://localhost:8000/hired_employees/batch_insert] Chunk 25 enviado con éxito (2000 registros)\n",
      "2025-08-12 23:03:19,790 - INFO - [http://localhost:8000/hired_employees/batch_insert] Chunk 26 enviado con éxito (2000 registros)\n",
      "2025-08-12 23:03:21,906 - INFO - [http://localhost:8000/hired_employees/batch_insert] Chunk 27 enviado con éxito (2000 registros)\n",
      "2025-08-12 23:03:24,055 - INFO - [http://localhost:8000/hired_employees/batch_insert] Chunk 28 enviado con éxito (2000 registros)\n",
      "2025-08-12 23:03:26,211 - INFO - [http://localhost:8000/hired_employees/batch_insert] Chunk 29 enviado con éxito (2000 registros)\n",
      "2025-08-12 23:03:28,310 - INFO - [http://localhost:8000/hired_employees/batch_insert] Chunk 30 enviado con éxito (2000 registros)\n",
      "2025-08-12 23:03:30,408 - INFO - [http://localhost:8000/hired_employees/batch_insert] Chunk 31 enviado con éxito (2000 registros)\n",
      "2025-08-12 23:03:32,555 - INFO - [http://localhost:8000/hired_employees/batch_insert] Chunk 32 enviado con éxito (2000 registros)\n",
      "2025-08-12 23:03:34,692 - INFO - [http://localhost:8000/hired_employees/batch_insert] Chunk 33 enviado con éxito (2000 registros)\n",
      "2025-08-12 23:03:36,789 - INFO - [http://localhost:8000/hired_employees/batch_insert] Chunk 34 enviado con éxito (2000 registros)\n",
      "2025-08-12 23:03:38,870 - INFO - [http://localhost:8000/hired_employees/batch_insert] Chunk 35 enviado con éxito (2000 registros)\n",
      "2025-08-12 23:03:40,994 - INFO - [http://localhost:8000/hired_employees/batch_insert] Chunk 36 enviado con éxito (2000 registros)\n",
      "2025-08-12 23:03:43,094 - INFO - [http://localhost:8000/hired_employees/batch_insert] Chunk 37 enviado con éxito (2000 registros)\n",
      "2025-08-12 23:03:45,223 - INFO - [http://localhost:8000/hired_employees/batch_insert] Chunk 38 enviado con éxito (2000 registros)\n",
      "2025-08-12 23:03:47,371 - INFO - [http://localhost:8000/hired_employees/batch_insert] Chunk 39 enviado con éxito (2000 registros)\n",
      "2025-08-12 23:03:49,455 - INFO - [http://localhost:8000/hired_employees/batch_insert] Chunk 40 enviado con éxito (2000 registros)\n",
      "2025-08-12 23:03:51,592 - INFO - [http://localhost:8000/hired_employees/batch_insert] Chunk 41 enviado con éxito (2000 registros)\n",
      "2025-08-12 23:03:53,694 - INFO - [http://localhost:8000/hired_employees/batch_insert] Chunk 42 enviado con éxito (2000 registros)\n",
      "2025-08-12 23:03:55,803 - INFO - [http://localhost:8000/hired_employees/batch_insert] Chunk 43 enviado con éxito (2000 registros)\n",
      "2025-08-12 23:03:57,912 - INFO - [http://localhost:8000/hired_employees/batch_insert] Chunk 44 enviado con éxito (2000 registros)\n",
      "2025-08-12 23:04:00,053 - INFO - [http://localhost:8000/hired_employees/batch_insert] Chunk 45 enviado con éxito (2000 registros)\n",
      "2025-08-12 23:04:02,187 - INFO - [http://localhost:8000/hired_employees/batch_insert] Chunk 46 enviado con éxito (2000 registros)\n",
      "2025-08-12 23:04:04,321 - INFO - [http://localhost:8000/hired_employees/batch_insert] Chunk 47 enviado con éxito (2000 registros)\n",
      "2025-08-12 23:04:06,475 - INFO - [http://localhost:8000/hired_employees/batch_insert] Chunk 48 enviado con éxito (2000 registros)\n",
      "2025-08-12 23:04:08,578 - INFO - [http://localhost:8000/hired_employees/batch_insert] Chunk 49 enviado con éxito (2000 registros)\n",
      "2025-08-12 23:04:10,732 - INFO - [http://localhost:8000/hired_employees/batch_insert] Chunk 50 enviado con éxito (2000 registros)\n",
      "2025-08-12 23:04:12,876 - INFO - [http://localhost:8000/hired_employees/batch_insert] Chunk 51 enviado con éxito (2000 registros)\n",
      "2025-08-12 23:04:15,050 - INFO - [http://localhost:8000/hired_employees/batch_insert] Chunk 52 enviado con éxito (2000 registros)\n",
      "2025-08-12 23:04:17,197 - INFO - [http://localhost:8000/hired_employees/batch_insert] Chunk 53 enviado con éxito (2000 registros)\n",
      "2025-08-12 23:04:19,330 - INFO - [http://localhost:8000/hired_employees/batch_insert] Chunk 54 enviado con éxito (2000 registros)\n",
      "2025-08-12 23:04:21,448 - INFO - [http://localhost:8000/hired_employees/batch_insert] Chunk 55 enviado con éxito (2000 registros)\n",
      "2025-08-12 23:04:23,574 - INFO - [http://localhost:8000/hired_employees/batch_insert] Chunk 56 enviado con éxito (2000 registros)\n",
      "2025-08-12 23:04:25,695 - INFO - [http://localhost:8000/hired_employees/batch_insert] Chunk 57 enviado con éxito (2000 registros)\n",
      "2025-08-12 23:04:27,835 - INFO - [http://localhost:8000/hired_employees/batch_insert] Chunk 58 enviado con éxito (2000 registros)\n",
      "2025-08-12 23:04:29,987 - INFO - [http://localhost:8000/hired_employees/batch_insert] Chunk 59 enviado con éxito (2000 registros)\n",
      "2025-08-12 23:04:32,122 - INFO - [http://localhost:8000/hired_employees/batch_insert] Chunk 60 enviado con éxito (2000 registros)\n",
      "2025-08-12 23:04:34,254 - INFO - [http://localhost:8000/hired_employees/batch_insert] Chunk 61 enviado con éxito (2000 registros)\n",
      "2025-08-12 23:04:36,414 - INFO - [http://localhost:8000/hired_employees/batch_insert] Chunk 62 enviado con éxito (2000 registros)\n",
      "2025-08-12 23:04:38,579 - INFO - [http://localhost:8000/hired_employees/batch_insert] Chunk 63 enviado con éxito (2000 registros)\n",
      "2025-08-12 23:04:40,719 - INFO - [http://localhost:8000/hired_employees/batch_insert] Chunk 64 enviado con éxito (2000 registros)\n",
      "2025-08-12 23:04:42,854 - INFO - [http://localhost:8000/hired_employees/batch_insert] Chunk 65 enviado con éxito (2000 registros)\n",
      "2025-08-12 23:04:44,998 - INFO - [http://localhost:8000/hired_employees/batch_insert] Chunk 66 enviado con éxito (2000 registros)\n",
      "2025-08-12 23:04:47,145 - INFO - [http://localhost:8000/hired_employees/batch_insert] Chunk 67 enviado con éxito (2000 registros)\n",
      "2025-08-12 23:04:49,312 - INFO - [http://localhost:8000/hired_employees/batch_insert] Chunk 68 enviado con éxito (2000 registros)\n",
      "2025-08-12 23:04:51,468 - INFO - [http://localhost:8000/hired_employees/batch_insert] Chunk 69 enviado con éxito (2000 registros)\n",
      "2025-08-12 23:04:53,608 - INFO - [http://localhost:8000/hired_employees/batch_insert] Chunk 70 enviado con éxito (2000 registros)\n",
      "2025-08-12 23:04:55,743 - INFO - [http://localhost:8000/hired_employees/batch_insert] Chunk 71 enviado con éxito (2000 registros)\n",
      "2025-08-12 23:04:57,881 - INFO - [http://localhost:8000/hired_employees/batch_insert] Chunk 72 enviado con éxito (2000 registros)\n",
      "2025-08-12 23:05:00,001 - INFO - [http://localhost:8000/hired_employees/batch_insert] Chunk 73 enviado con éxito (2000 registros)\n",
      "2025-08-12 23:05:02,119 - INFO - [http://localhost:8000/hired_employees/batch_insert] Chunk 74 enviado con éxito (2000 registros)\n",
      "2025-08-12 23:05:04,231 - INFO - [http://localhost:8000/hired_employees/batch_insert] Chunk 75 enviado con éxito (2000 registros)\n",
      "2025-08-12 23:05:06,340 - INFO - [http://localhost:8000/hired_employees/batch_insert] Chunk 76 enviado con éxito (2000 registros)\n",
      "2025-08-12 23:05:08,496 - INFO - [http://localhost:8000/hired_employees/batch_insert] Chunk 77 enviado con éxito (2000 registros)\n",
      "2025-08-12 23:05:10,627 - INFO - [http://localhost:8000/hired_employees/batch_insert] Chunk 78 enviado con éxito (2000 registros)\n",
      "2025-08-12 23:05:12,765 - INFO - [http://localhost:8000/hired_employees/batch_insert] Chunk 79 enviado con éxito (2000 registros)\n",
      "2025-08-12 23:05:14,930 - INFO - [http://localhost:8000/hired_employees/batch_insert] Chunk 80 enviado con éxito (2000 registros)\n",
      "2025-08-12 23:05:17,053 - INFO - [http://localhost:8000/hired_employees/batch_insert] Chunk 81 enviado con éxito (2000 registros)\n",
      "2025-08-12 23:05:19,195 - INFO - [http://localhost:8000/hired_employees/batch_insert] Chunk 82 enviado con éxito (2000 registros)\n",
      "2025-08-12 23:05:21,363 - INFO - [http://localhost:8000/hired_employees/batch_insert] Chunk 83 enviado con éxito (2000 registros)\n",
      "2025-08-12 23:05:23,490 - INFO - [http://localhost:8000/hired_employees/batch_insert] Chunk 84 enviado con éxito (2000 registros)\n",
      "2025-08-12 23:05:25,634 - INFO - [http://localhost:8000/hired_employees/batch_insert] Chunk 85 enviado con éxito (2000 registros)\n",
      "2025-08-12 23:05:27,775 - INFO - [http://localhost:8000/hired_employees/batch_insert] Chunk 86 enviado con éxito (2000 registros)\n",
      "2025-08-12 23:05:29,964 - INFO - [http://localhost:8000/hired_employees/batch_insert] Chunk 87 enviado con éxito (2000 registros)\n",
      "2025-08-12 23:05:32,105 - INFO - [http://localhost:8000/hired_employees/batch_insert] Chunk 88 enviado con éxito (2000 registros)\n",
      "2025-08-12 23:05:34,254 - INFO - [http://localhost:8000/hired_employees/batch_insert] Chunk 89 enviado con éxito (2000 registros)\n",
      "2025-08-12 23:05:36,492 - INFO - [http://localhost:8000/hired_employees/batch_insert] Chunk 90 enviado con éxito (2000 registros)\n",
      "2025-08-12 23:05:38,611 - INFO - [http://localhost:8000/hired_employees/batch_insert] Chunk 91 enviado con éxito (2000 registros)\n",
      "2025-08-12 23:05:40,798 - INFO - [http://localhost:8000/hired_employees/batch_insert] Chunk 92 enviado con éxito (2000 registros)\n",
      "2025-08-12 23:05:42,939 - INFO - [http://localhost:8000/hired_employees/batch_insert] Chunk 93 enviado con éxito (2000 registros)\n",
      "2025-08-12 23:05:45,078 - INFO - [http://localhost:8000/hired_employees/batch_insert] Chunk 94 enviado con éxito (2000 registros)\n",
      "2025-08-12 23:05:47,195 - INFO - [http://localhost:8000/hired_employees/batch_insert] Chunk 95 enviado con éxito (2000 registros)\n",
      "2025-08-12 23:05:49,354 - INFO - [http://localhost:8000/hired_employees/batch_insert] Chunk 96 enviado con éxito (2000 registros)\n",
      "2025-08-12 23:05:51,507 - INFO - [http://localhost:8000/hired_employees/batch_insert] Chunk 97 enviado con éxito (2000 registros)\n",
      "2025-08-12 23:05:53,671 - INFO - [http://localhost:8000/hired_employees/batch_insert] Chunk 98 enviado con éxito (2000 registros)\n",
      "2025-08-12 23:05:55,811 - INFO - [http://localhost:8000/hired_employees/batch_insert] Chunk 99 enviado con éxito (2000 registros)\n",
      "2025-08-12 23:05:57,958 - INFO - [http://localhost:8000/hired_employees/batch_insert] Chunk 100 enviado con éxito (2000 registros)\n",
      "2025-08-12 23:05:57,959 - INFO - Carga de datos finalizada.\n"
     ]
    }
   ],
   "source": [
    "if __name__ == \"__main__\":\n",
    "    main()"
   ]
  }
 ],
 "metadata": {
  "kernelspec": {
   "display_name": "venv",
   "language": "python",
   "name": "python3"
  },
  "language_info": {
   "codemirror_mode": {
    "name": "ipython",
    "version": 3
   },
   "file_extension": ".py",
   "mimetype": "text/x-python",
   "name": "python",
   "nbconvert_exporter": "python",
   "pygments_lexer": "ipython3",
   "version": "3.13.3"
  }
 },
 "nbformat": 4,
 "nbformat_minor": 5
}
