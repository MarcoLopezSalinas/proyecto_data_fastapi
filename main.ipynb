{
 "cells": [
  {
   "cell_type": "code",
   "execution_count": 13,
   "id": "07597e27",
   "metadata": {},
   "outputs": [],
   "source": [
    "import pandas as pd\n",
    "import requests\n",
    "import logging\n",
    "from typing import List, Optional\n",
    "from requests.exceptions import RequestException"
   ]
  },
  {
   "cell_type": "code",
   "execution_count": 14,
   "id": "735c955b",
   "metadata": {},
   "outputs": [],
   "source": [
    "# Configurar logging\n",
    "logging.basicConfig(level=logging.INFO, format=\"%(asctime)s - %(levelname)s - %(message)s\")\n",
    "logger = logging.getLogger(__name__)"
   ]
  },
  {
   "cell_type": "code",
   "execution_count": 15,
   "id": "8a39d90c",
   "metadata": {},
   "outputs": [],
   "source": [
    "# Configuración de archivos y endpoints\n",
    "#ruta_hired_employees = \"archivos/hired_employees.csv\"\n",
    "ruta_hired_employees = \"archivos/employees.csv\"\n",
    "ruta_departments = \"archivos/departments.csv\"\n",
    "ruta_jobs = \"archivos/Jobs.csv\""
   ]
  },
  {
   "cell_type": "code",
   "execution_count": 16,
   "id": "bb174eac",
   "metadata": {},
   "outputs": [],
   "source": [
    "columns_names_hired_employees = [\"id\", \"name\", \"datetime\", \"department_id\", \"job_id\"]\n",
    "columns_names_departments = [\"id\", \"department\"]\n",
    "columns_names_jobs = [\"id\", \"job\"]"
   ]
  },
  {
   "cell_type": "code",
   "execution_count": 17,
   "id": "de90f6bb",
   "metadata": {},
   "outputs": [],
   "source": [
    "API_URL_hired_employees = \"http://localhost:8000/hired_employees/batch_insert\"\n",
    "API_URL_deparments = \"http://localhost:8000/departments/batch_insert\"\n",
    "API_URL_jobs = \"http://localhost:8000/jobs/batch_insert\""
   ]
  },
  {
   "cell_type": "code",
   "execution_count": 18,
   "id": "624ee5ba",
   "metadata": {},
   "outputs": [],
   "source": [
    "def leer_csv_en_chunks(ruta: str, chunk_size: int) -> pd.io.parsers.TextFileReader:\n",
    "    \"\"\"Lee un archivo CSV por chunks.\"\"\"\n",
    "    return pd.read_csv(ruta, header=None, chunksize=chunk_size)"
   ]
  },
  {
   "cell_type": "code",
   "execution_count": 19,
   "id": "d0e17de4",
   "metadata": {},
   "outputs": [],
   "source": [
    "def transformar_chunk(chunk: pd.DataFrame, columnas: List[str]) -> pd.DataFrame:\n",
    "    \"\"\"Asigna columnas, convierte tipos y reemplaza NaN por None.\"\"\"\n",
    "    chunk.columns = columnas\n",
    "    chunk = chunk.astype(object)\n",
    "    return chunk.where(pd.notnull(chunk), None)"
   ]
  },
  {
   "cell_type": "code",
   "execution_count": 20,
   "id": "f649fe0b",
   "metadata": {},
   "outputs": [],
   "source": [
    "def convertir_a_json(chunk: pd.DataFrame) -> List[dict]:\n",
    "    \"\"\"Convierte un DataFrame a lista de diccionarios (JSON).\"\"\"\n",
    "    return chunk.to_dict(orient=\"records\")"
   ]
  },
  {
   "cell_type": "code",
   "execution_count": 21,
   "id": "3d80d13b",
   "metadata": {},
   "outputs": [],
   "source": [
    "def enviar_a_api(api_url: str, data: List[dict]) -> Optional[requests.Response]:\n",
    "    \"\"\"Envía datos en formato JSON a la API y devuelve la respuesta.\"\"\"\n",
    "    try:\n",
    "        response = requests.post(api_url, json=data, timeout=10)\n",
    "        response.raise_for_status()\n",
    "        return response\n",
    "    except RequestException as e:\n",
    "        # Mostrar el contenido de la respuesta si está disponible\n",
    "        if hasattr(e, 'response') and e.response is not None:\n",
    "            logger.error(f\"Error al enviar datos a la API ({api_url}): {e.response.text}\")\n",
    "        else:\n",
    "            logger.error(f\"Error al enviar datos a la API ({api_url}): {e}\")\n",
    "        return None"
   ]
  },
  {
   "cell_type": "code",
   "execution_count": 22,
   "id": "0a916c98",
   "metadata": {},
   "outputs": [],
   "source": [
    "def procesar_y_enviar_csv(\n",
    "    ruta: str,\n",
    "    columnas: List[str],\n",
    "    api_url: str,\n",
    "    chunk_size: int = 2000\n",
    ") -> None:\n",
    "    \"\"\"Proceso completo de lectura, transformación y envío a API.\"\"\"\n",
    "    for i, chunk in enumerate(leer_csv_en_chunks(ruta, chunk_size)):\n",
    "        df = transformar_chunk(chunk, columnas)\n",
    "        json_data = convertir_a_json(df)\n",
    "        response = enviar_a_api(api_url, json_data)\n",
    "\n",
    "        if response:\n",
    "            logger.info(f\"[{api_url}] Chunk {i+1} enviado con éxito ({len(json_data)} registros)\")\n",
    "        else:\n",
    "            logger.error(f\"[{api_url}] Error en el envío del chunk {i+1}\")\n",
    "            break  # Detener en caso de error"
   ]
  },
  {
   "cell_type": "code",
   "execution_count": 23,
   "id": "13dee901",
   "metadata": {},
   "outputs": [],
   "source": [
    "def main() -> None:\n",
    "    \"\"\"Función principal del proceso ETL.\"\"\"\n",
    "    logger.info(\"Iniciando carga de datos...\")\n",
    "\n",
    "    procesar_y_enviar_csv(ruta_departments, columns_names_departments, API_URL_deparments)\n",
    "    procesar_y_enviar_csv(ruta_jobs, columns_names_jobs, API_URL_jobs)\n",
    "    procesar_y_enviar_csv(ruta_hired_employees, columns_names_hired_employees, API_URL_hired_employees)\n",
    "\n",
    "    logger.info(\"Carga de datos finalizada.\")"
   ]
  },
  {
   "cell_type": "code",
   "execution_count": 25,
   "id": "a2339ab0",
   "metadata": {},
   "outputs": [
    {
     "name": "stderr",
     "output_type": "stream",
     "text": [
      "2025-08-12 22:38:24,050 - INFO - Iniciando carga de datos...\n",
      "2025-08-12 22:38:26,182 - INFO - [http://localhost:8000/departments/batch_insert] Chunk 1 enviado con éxito (12 registros)\n",
      "2025-08-12 22:38:28,278 - INFO - [http://localhost:8000/jobs/batch_insert] Chunk 1 enviado con éxito (183 registros)\n",
      "2025-08-12 22:38:30,464 - INFO - [http://localhost:8000/hired_employees/batch_insert] Chunk 1 enviado con éxito (2000 registros)\n",
      "2025-08-12 22:38:32,635 - INFO - [http://localhost:8000/hired_employees/batch_insert] Chunk 2 enviado con éxito (2000 registros)\n",
      "2025-08-12 22:38:34,744 - INFO - [http://localhost:8000/hired_employees/batch_insert] Chunk 3 enviado con éxito (2000 registros)\n",
      "2025-08-12 22:38:36,890 - INFO - [http://localhost:8000/hired_employees/batch_insert] Chunk 4 enviado con éxito (2000 registros)\n",
      "2025-08-12 22:38:39,010 - INFO - [http://localhost:8000/hired_employees/batch_insert] Chunk 5 enviado con éxito (2000 registros)\n",
      "2025-08-12 22:38:41,162 - INFO - [http://localhost:8000/hired_employees/batch_insert] Chunk 6 enviado con éxito (2000 registros)\n",
      "2025-08-12 22:38:43,305 - INFO - [http://localhost:8000/hired_employees/batch_insert] Chunk 7 enviado con éxito (2000 registros)\n",
      "2025-08-12 22:38:45,458 - INFO - [http://localhost:8000/hired_employees/batch_insert] Chunk 8 enviado con éxito (2000 registros)\n",
      "2025-08-12 22:38:47,580 - INFO - [http://localhost:8000/hired_employees/batch_insert] Chunk 9 enviado con éxito (2000 registros)\n",
      "2025-08-12 22:38:49,709 - INFO - [http://localhost:8000/hired_employees/batch_insert] Chunk 10 enviado con éxito (2000 registros)\n",
      "2025-08-12 22:38:51,855 - INFO - [http://localhost:8000/hired_employees/batch_insert] Chunk 11 enviado con éxito (2000 registros)\n",
      "2025-08-12 22:38:53,974 - INFO - [http://localhost:8000/hired_employees/batch_insert] Chunk 12 enviado con éxito (2000 registros)\n",
      "2025-08-12 22:38:56,126 - INFO - [http://localhost:8000/hired_employees/batch_insert] Chunk 13 enviado con éxito (2000 registros)\n",
      "2025-08-12 22:38:58,248 - INFO - [http://localhost:8000/hired_employees/batch_insert] Chunk 14 enviado con éxito (2000 registros)\n",
      "2025-08-12 22:39:00,390 - INFO - [http://localhost:8000/hired_employees/batch_insert] Chunk 15 enviado con éxito (2000 registros)\n",
      "2025-08-12 22:39:02,505 - INFO - [http://localhost:8000/hired_employees/batch_insert] Chunk 16 enviado con éxito (2000 registros)\n",
      "2025-08-12 22:39:04,646 - INFO - [http://localhost:8000/hired_employees/batch_insert] Chunk 17 enviado con éxito (2000 registros)\n",
      "2025-08-12 22:39:06,826 - INFO - [http://localhost:8000/hired_employees/batch_insert] Chunk 18 enviado con éxito (2000 registros)\n",
      "2025-08-12 22:39:08,960 - INFO - [http://localhost:8000/hired_employees/batch_insert] Chunk 19 enviado con éxito (2000 registros)\n",
      "2025-08-12 22:39:11,076 - INFO - [http://localhost:8000/hired_employees/batch_insert] Chunk 20 enviado con éxito (2000 registros)\n",
      "2025-08-12 22:39:13,245 - INFO - [http://localhost:8000/hired_employees/batch_insert] Chunk 21 enviado con éxito (2000 registros)\n",
      "2025-08-12 22:39:15,376 - INFO - [http://localhost:8000/hired_employees/batch_insert] Chunk 22 enviado con éxito (2000 registros)\n",
      "2025-08-12 22:39:17,543 - INFO - [http://localhost:8000/hired_employees/batch_insert] Chunk 23 enviado con éxito (2000 registros)\n",
      "2025-08-12 22:39:19,668 - INFO - [http://localhost:8000/hired_employees/batch_insert] Chunk 24 enviado con éxito (2000 registros)\n",
      "2025-08-12 22:39:21,818 - INFO - [http://localhost:8000/hired_employees/batch_insert] Chunk 25 enviado con éxito (2000 registros)\n",
      "2025-08-12 22:39:23,941 - INFO - [http://localhost:8000/hired_employees/batch_insert] Chunk 26 enviado con éxito (2000 registros)\n",
      "2025-08-12 22:39:26,093 - INFO - [http://localhost:8000/hired_employees/batch_insert] Chunk 27 enviado con éxito (2000 registros)\n",
      "2025-08-12 22:39:28,203 - INFO - [http://localhost:8000/hired_employees/batch_insert] Chunk 28 enviado con éxito (2000 registros)\n",
      "2025-08-12 22:39:30,322 - INFO - [http://localhost:8000/hired_employees/batch_insert] Chunk 29 enviado con éxito (2000 registros)\n",
      "2025-08-12 22:39:32,459 - INFO - [http://localhost:8000/hired_employees/batch_insert] Chunk 30 enviado con éxito (2000 registros)\n",
      "2025-08-12 22:39:34,668 - INFO - [http://localhost:8000/hired_employees/batch_insert] Chunk 31 enviado con éxito (2000 registros)\n",
      "2025-08-12 22:39:36,820 - INFO - [http://localhost:8000/hired_employees/batch_insert] Chunk 32 enviado con éxito (2000 registros)\n",
      "2025-08-12 22:39:38,936 - INFO - [http://localhost:8000/hired_employees/batch_insert] Chunk 33 enviado con éxito (2000 registros)\n",
      "2025-08-12 22:39:41,056 - INFO - [http://localhost:8000/hired_employees/batch_insert] Chunk 34 enviado con éxito (2000 registros)\n",
      "2025-08-12 22:39:43,191 - INFO - [http://localhost:8000/hired_employees/batch_insert] Chunk 35 enviado con éxito (2000 registros)\n",
      "2025-08-12 22:39:45,321 - INFO - [http://localhost:8000/hired_employees/batch_insert] Chunk 36 enviado con éxito (2000 registros)\n",
      "2025-08-12 22:39:47,451 - INFO - [http://localhost:8000/hired_employees/batch_insert] Chunk 37 enviado con éxito (2000 registros)\n",
      "2025-08-12 22:39:49,588 - INFO - [http://localhost:8000/hired_employees/batch_insert] Chunk 38 enviado con éxito (2000 registros)\n",
      "2025-08-12 22:39:51,743 - INFO - [http://localhost:8000/hired_employees/batch_insert] Chunk 39 enviado con éxito (2000 registros)\n",
      "2025-08-12 22:39:53,876 - INFO - [http://localhost:8000/hired_employees/batch_insert] Chunk 40 enviado con éxito (2000 registros)\n",
      "2025-08-12 22:39:56,004 - INFO - [http://localhost:8000/hired_employees/batch_insert] Chunk 41 enviado con éxito (2000 registros)\n",
      "2025-08-12 22:39:58,179 - INFO - [http://localhost:8000/hired_employees/batch_insert] Chunk 42 enviado con éxito (2000 registros)\n",
      "2025-08-12 22:40:00,310 - INFO - [http://localhost:8000/hired_employees/batch_insert] Chunk 43 enviado con éxito (2000 registros)\n",
      "2025-08-12 22:40:02,435 - INFO - [http://localhost:8000/hired_employees/batch_insert] Chunk 44 enviado con éxito (2000 registros)\n",
      "2025-08-12 22:40:04,556 - INFO - [http://localhost:8000/hired_employees/batch_insert] Chunk 45 enviado con éxito (2000 registros)\n",
      "2025-08-12 22:40:06,722 - INFO - [http://localhost:8000/hired_employees/batch_insert] Chunk 46 enviado con éxito (2000 registros)\n",
      "2025-08-12 22:40:08,833 - INFO - [http://localhost:8000/hired_employees/batch_insert] Chunk 47 enviado con éxito (2000 registros)\n",
      "2025-08-12 22:40:10,955 - INFO - [http://localhost:8000/hired_employees/batch_insert] Chunk 48 enviado con éxito (2000 registros)\n",
      "2025-08-12 22:40:13,049 - INFO - [http://localhost:8000/hired_employees/batch_insert] Chunk 49 enviado con éxito (2000 registros)\n",
      "2025-08-12 22:40:15,242 - INFO - [http://localhost:8000/hired_employees/batch_insert] Chunk 50 enviado con éxito (2000 registros)\n",
      "2025-08-12 22:40:17,390 - INFO - [http://localhost:8000/hired_employees/batch_insert] Chunk 51 enviado con éxito (2000 registros)\n",
      "2025-08-12 22:40:19,523 - INFO - [http://localhost:8000/hired_employees/batch_insert] Chunk 52 enviado con éxito (2000 registros)\n",
      "2025-08-12 22:40:21,662 - INFO - [http://localhost:8000/hired_employees/batch_insert] Chunk 53 enviado con éxito (2000 registros)\n",
      "2025-08-12 22:40:23,789 - INFO - [http://localhost:8000/hired_employees/batch_insert] Chunk 54 enviado con éxito (2000 registros)\n",
      "2025-08-12 22:40:25,917 - INFO - [http://localhost:8000/hired_employees/batch_insert] Chunk 55 enviado con éxito (2000 registros)\n",
      "2025-08-12 22:40:28,048 - INFO - [http://localhost:8000/hired_employees/batch_insert] Chunk 56 enviado con éxito (2000 registros)\n",
      "2025-08-12 22:40:30,166 - INFO - [http://localhost:8000/hired_employees/batch_insert] Chunk 57 enviado con éxito (2000 registros)\n",
      "2025-08-12 22:40:32,281 - INFO - [http://localhost:8000/hired_employees/batch_insert] Chunk 58 enviado con éxito (2000 registros)\n",
      "2025-08-12 22:40:34,427 - INFO - [http://localhost:8000/hired_employees/batch_insert] Chunk 59 enviado con éxito (2000 registros)\n",
      "2025-08-12 22:40:36,550 - INFO - [http://localhost:8000/hired_employees/batch_insert] Chunk 60 enviado con éxito (2000 registros)\n",
      "2025-08-12 22:40:38,676 - INFO - [http://localhost:8000/hired_employees/batch_insert] Chunk 61 enviado con éxito (2000 registros)\n",
      "2025-08-12 22:40:40,826 - INFO - [http://localhost:8000/hired_employees/batch_insert] Chunk 62 enviado con éxito (2000 registros)\n",
      "2025-08-12 22:40:42,950 - INFO - [http://localhost:8000/hired_employees/batch_insert] Chunk 63 enviado con éxito (2000 registros)\n",
      "2025-08-12 22:40:45,088 - INFO - [http://localhost:8000/hired_employees/batch_insert] Chunk 64 enviado con éxito (2000 registros)\n",
      "2025-08-12 22:40:47,225 - INFO - [http://localhost:8000/hired_employees/batch_insert] Chunk 65 enviado con éxito (2000 registros)\n",
      "2025-08-12 22:40:49,377 - INFO - [http://localhost:8000/hired_employees/batch_insert] Chunk 66 enviado con éxito (2000 registros)\n",
      "2025-08-12 22:40:51,503 - INFO - [http://localhost:8000/hired_employees/batch_insert] Chunk 67 enviado con éxito (2000 registros)\n",
      "2025-08-12 22:40:53,614 - INFO - [http://localhost:8000/hired_employees/batch_insert] Chunk 68 enviado con éxito (2000 registros)\n",
      "2025-08-12 22:40:55,741 - INFO - [http://localhost:8000/hired_employees/batch_insert] Chunk 69 enviado con éxito (2000 registros)\n",
      "2025-08-12 22:40:57,881 - INFO - [http://localhost:8000/hired_employees/batch_insert] Chunk 70 enviado con éxito (2000 registros)\n",
      "2025-08-12 22:41:00,023 - INFO - [http://localhost:8000/hired_employees/batch_insert] Chunk 71 enviado con éxito (2000 registros)\n",
      "2025-08-12 22:41:02,176 - INFO - [http://localhost:8000/hired_employees/batch_insert] Chunk 72 enviado con éxito (2000 registros)\n",
      "2025-08-12 22:41:04,331 - INFO - [http://localhost:8000/hired_employees/batch_insert] Chunk 73 enviado con éxito (2000 registros)\n",
      "2025-08-12 22:41:06,454 - INFO - [http://localhost:8000/hired_employees/batch_insert] Chunk 74 enviado con éxito (2000 registros)\n",
      "2025-08-12 22:41:08,574 - INFO - [http://localhost:8000/hired_employees/batch_insert] Chunk 75 enviado con éxito (2000 registros)\n",
      "2025-08-12 22:41:10,739 - INFO - [http://localhost:8000/hired_employees/batch_insert] Chunk 76 enviado con éxito (2000 registros)\n",
      "2025-08-12 22:41:12,873 - INFO - [http://localhost:8000/hired_employees/batch_insert] Chunk 77 enviado con éxito (2000 registros)\n",
      "2025-08-12 22:41:15,015 - INFO - [http://localhost:8000/hired_employees/batch_insert] Chunk 78 enviado con éxito (2000 registros)\n",
      "2025-08-12 22:41:17,133 - INFO - [http://localhost:8000/hired_employees/batch_insert] Chunk 79 enviado con éxito (2000 registros)\n",
      "2025-08-12 22:41:19,315 - INFO - [http://localhost:8000/hired_employees/batch_insert] Chunk 80 enviado con éxito (2000 registros)\n",
      "2025-08-12 22:41:21,471 - INFO - [http://localhost:8000/hired_employees/batch_insert] Chunk 81 enviado con éxito (2000 registros)\n",
      "2025-08-12 22:41:23,614 - INFO - [http://localhost:8000/hired_employees/batch_insert] Chunk 82 enviado con éxito (2000 registros)\n",
      "2025-08-12 22:41:25,745 - INFO - [http://localhost:8000/hired_employees/batch_insert] Chunk 83 enviado con éxito (2000 registros)\n",
      "2025-08-12 22:41:27,891 - INFO - [http://localhost:8000/hired_employees/batch_insert] Chunk 84 enviado con éxito (2000 registros)\n",
      "2025-08-12 22:41:29,985 - INFO - [http://localhost:8000/hired_employees/batch_insert] Chunk 85 enviado con éxito (2000 registros)\n",
      "2025-08-12 22:41:32,106 - INFO - [http://localhost:8000/hired_employees/batch_insert] Chunk 86 enviado con éxito (2000 registros)\n",
      "2025-08-12 22:41:34,261 - INFO - [http://localhost:8000/hired_employees/batch_insert] Chunk 87 enviado con éxito (2000 registros)\n",
      "2025-08-12 22:41:36,379 - INFO - [http://localhost:8000/hired_employees/batch_insert] Chunk 88 enviado con éxito (2000 registros)\n",
      "2025-08-12 22:41:38,679 - INFO - [http://localhost:8000/hired_employees/batch_insert] Chunk 89 enviado con éxito (2000 registros)\n",
      "2025-08-12 22:41:40,933 - INFO - [http://localhost:8000/hired_employees/batch_insert] Chunk 90 enviado con éxito (2000 registros)\n",
      "2025-08-12 22:41:43,164 - INFO - [http://localhost:8000/hired_employees/batch_insert] Chunk 91 enviado con éxito (2000 registros)\n",
      "2025-08-12 22:41:45,412 - INFO - [http://localhost:8000/hired_employees/batch_insert] Chunk 92 enviado con éxito (2000 registros)\n",
      "2025-08-12 22:41:47,675 - INFO - [http://localhost:8000/hired_employees/batch_insert] Chunk 93 enviado con éxito (2000 registros)\n",
      "2025-08-12 22:41:50,028 - INFO - [http://localhost:8000/hired_employees/batch_insert] Chunk 94 enviado con éxito (2000 registros)\n",
      "2025-08-12 22:41:52,304 - INFO - [http://localhost:8000/hired_employees/batch_insert] Chunk 95 enviado con éxito (2000 registros)\n",
      "2025-08-12 22:41:54,561 - INFO - [http://localhost:8000/hired_employees/batch_insert] Chunk 96 enviado con éxito (2000 registros)\n",
      "2025-08-12 22:41:56,812 - INFO - [http://localhost:8000/hired_employees/batch_insert] Chunk 97 enviado con éxito (2000 registros)\n",
      "2025-08-12 22:41:59,063 - INFO - [http://localhost:8000/hired_employees/batch_insert] Chunk 98 enviado con éxito (2000 registros)\n",
      "2025-08-12 22:42:01,274 - INFO - [http://localhost:8000/hired_employees/batch_insert] Chunk 99 enviado con éxito (2000 registros)\n",
      "2025-08-12 22:42:03,526 - INFO - [http://localhost:8000/hired_employees/batch_insert] Chunk 100 enviado con éxito (2000 registros)\n",
      "2025-08-12 22:42:03,530 - INFO - Carga de datos finalizada.\n"
     ]
    }
   ],
   "source": [
    "if __name__ == \"__main__\":\n",
    "    main()"
   ]
  }
 ],
 "metadata": {
  "kernelspec": {
   "display_name": "venv",
   "language": "python",
   "name": "python3"
  },
  "language_info": {
   "codemirror_mode": {
    "name": "ipython",
    "version": 3
   },
   "file_extension": ".py",
   "mimetype": "text/x-python",
   "name": "python",
   "nbconvert_exporter": "python",
   "pygments_lexer": "ipython3",
   "version": "3.13.3"
  }
 },
 "nbformat": 4,
 "nbformat_minor": 5
}
