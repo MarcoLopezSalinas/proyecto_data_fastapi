{
 "cells": [
  {
   "cell_type": "code",
   "execution_count": 1,
   "id": "07597e27",
   "metadata": {},
   "outputs": [],
   "source": [
    "import pandas as pd\n",
    "import requests\n",
    "import logging\n",
    "from typing import List, Optional\n",
    "from requests.exceptions import RequestException"
   ]
  },
  {
   "cell_type": "code",
   "execution_count": 2,
   "id": "735c955b",
   "metadata": {},
   "outputs": [],
   "source": [
    "# Configurar logging\n",
    "logging.basicConfig(level=logging.INFO, format=\"%(asctime)s - %(levelname)s - %(message)s\")\n",
    "logger = logging.getLogger(__name__)"
   ]
  },
  {
   "cell_type": "code",
   "execution_count": null,
   "id": "8a39d90c",
   "metadata": {},
   "outputs": [
    {
     "data": {
      "text/plain": [
       "<Logger __main__ (INFO)>"
      ]
     },
     "execution_count": 3,
     "metadata": {},
     "output_type": "execute_result"
    }
   ],
   "source": [
    "# Configuración de archivos y endpoints\n",
    "ruta_hired_employees = \"archivos/hired_employees.csv\"\n",
    "ruta_departments = \"archivos/departments.csv\"\n",
    "ruta_jobs = \"archivos/Jobs.csv\""
   ]
  },
  {
   "cell_type": "code",
   "execution_count": null,
   "id": "bb174eac",
   "metadata": {},
   "outputs": [],
   "source": [
    "columns_names_hired_employees = [\"id\", \"name\", \"datetime\", \"department_id\", \"job_id\"]\n",
    "columns_names_departments = [\"id\", \"department\"]\n",
    "columns_names_jobs = [\"id\", \"job\"]"
   ]
  },
  {
   "cell_type": "code",
   "execution_count": null,
   "id": "de90f6bb",
   "metadata": {},
   "outputs": [],
   "source": [
    "API_URL_hired_employees = \"http://localhost:8000/hired_employees/batch_insert\"\n",
    "API_URL_deparments = \"http://localhost:8000/departments/batch_insert\"\n",
    "API_URL_jobs = \"http://localhost:8000/jobs/batch_insert\""
   ]
  },
  {
   "cell_type": "code",
   "execution_count": null,
   "id": "624ee5ba",
   "metadata": {},
   "outputs": [],
   "source": [
    "def leer_csv_en_chunks(ruta: str, chunk_size: int) -> pd.io.parsers.TextFileReader:\n",
    "    \"\"\"Lee un archivo CSV por chunks.\"\"\"\n",
    "    return pd.read_csv(ruta, header=None, chunksize=chunk_size)"
   ]
  },
  {
   "cell_type": "code",
   "execution_count": null,
   "id": "d0e17de4",
   "metadata": {},
   "outputs": [],
   "source": [
    "def transformar_chunk(chunk: pd.DataFrame, columnas: List[str]) -> pd.DataFrame:\n",
    "    \"\"\"Asigna columnas, convierte tipos y reemplaza NaN por None.\"\"\"\n",
    "    chunk.columns = columnas\n",
    "    chunk = chunk.astype(object)\n",
    "    return chunk.where(pd.notnull(chunk), None)"
   ]
  },
  {
   "cell_type": "code",
   "execution_count": null,
   "id": "f649fe0b",
   "metadata": {},
   "outputs": [],
   "source": [
    "def convertir_a_json(chunk: pd.DataFrame) -> List[dict]:\n",
    "    \"\"\"Convierte un DataFrame a lista de diccionarios (JSON).\"\"\"\n",
    "    return chunk.to_dict(orient=\"records\")"
   ]
  },
  {
   "cell_type": "code",
   "execution_count": null,
   "id": "a284475a",
   "metadata": {},
   "outputs": [],
   "source": [
    "def enviar_a_api(api_url: str, data: List[dict]) -> Optional[requests.Response]:\n",
    "    \"\"\"Envía datos en formato JSON a la API y devuelve la respuesta.\"\"\"\n",
    "    try:\n",
    "        response = requests.post(api_url, json=data, timeout=10)\n",
    "        response.raise_for_status()\n",
    "        return response\n",
    "    except RequestException as e:\n",
    "        logger.error(f\"Error al enviar datos a la API ({api_url}): {e}\")\n",
    "        return None\n"
   ]
  },
  {
   "cell_type": "code",
   "execution_count": null,
   "id": "0a916c98",
   "metadata": {},
   "outputs": [],
   "source": [
    "def procesar_y_enviar_csv(\n",
    "    ruta: str,\n",
    "    columnas: List[str],\n",
    "    api_url: str,\n",
    "    chunk_size: int = 1000\n",
    ") -> None:\n",
    "    \"\"\"Proceso completo de lectura, transformación y envío a API.\"\"\"\n",
    "    for i, chunk in enumerate(leer_csv_en_chunks(ruta, chunk_size)):\n",
    "        df = transformar_chunk(chunk, columnas)\n",
    "        json_data = convertir_a_json(df)\n",
    "        response = enviar_a_api(api_url, json_data)\n",
    "\n",
    "        if response:\n",
    "            logger.info(f\"[{api_url}] Chunk {i+1} enviado con éxito ({len(json_data)} registros)\")\n",
    "        else:\n",
    "            logger.error(f\"[{api_url}] Error en el envío del chunk {i+1}\")\n",
    "            break  # Detener en caso de error"
   ]
  },
  {
   "cell_type": "code",
   "execution_count": null,
   "id": "13dee901",
   "metadata": {},
   "outputs": [],
   "source": [
    "def main() -> None:\n",
    "    \"\"\"Función principal del proceso ETL.\"\"\"\n",
    "    logger.info(\"Iniciando carga de datos...\")\n",
    "\n",
    "    procesar_y_enviar_csv(ruta_departments, columns_names_departments, API_URL_deparments)\n",
    "    procesar_y_enviar_csv(ruta_jobs, columns_names_jobs, API_URL_jobs)\n",
    "    procesar_y_enviar_csv(ruta_hired_employees, columns_names_hired_employees, API_URL_hired_employees)\n",
    "\n",
    "    logger.info(\"Carga de datos finalizada.\")"
   ]
  },
  {
   "cell_type": "code",
   "execution_count": null,
   "id": "a2339ab0",
   "metadata": {},
   "outputs": [
    {
     "ename": "NameError",
     "evalue": "name 'main' is not defined",
     "output_type": "error",
     "traceback": [
      "\u001b[31m---------------------------------------------------------------------------\u001b[39m",
      "\u001b[31mNameError\u001b[39m                                 Traceback (most recent call last)",
      "\u001b[36mCell\u001b[39m\u001b[36m \u001b[39m\u001b[32mIn[4]\u001b[39m\u001b[32m, line 2\u001b[39m\n\u001b[32m      1\u001b[39m \u001b[38;5;28;01mif\u001b[39;00m \u001b[34m__name__\u001b[39m == \u001b[33m\"\u001b[39m\u001b[33m__main__\u001b[39m\u001b[33m\"\u001b[39m:\n\u001b[32m----> \u001b[39m\u001b[32m2\u001b[39m     \u001b[43mmain\u001b[49m()\n",
      "\u001b[31mNameError\u001b[39m: name 'main' is not defined"
     ]
    }
   ],
   "source": [
    "if __name__ == \"__main__\":\n",
    "    main()"
   ]
  }
 ],
 "metadata": {
  "kernelspec": {
   "display_name": "venv",
   "language": "python",
   "name": "python3"
  },
  "language_info": {
   "codemirror_mode": {
    "name": "ipython",
    "version": 3
   },
   "file_extension": ".py",
   "mimetype": "text/x-python",
   "name": "python",
   "nbconvert_exporter": "python",
   "pygments_lexer": "ipython3",
   "version": "3.13.3"
  }
 },
 "nbformat": 4,
 "nbformat_minor": 5
}
