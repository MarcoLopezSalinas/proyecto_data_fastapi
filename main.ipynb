{
 "cells": [
  {
   "cell_type": "code",
   "execution_count": 30,
   "id": "07597e27",
   "metadata": {},
   "outputs": [],
   "source": [
    "import pandas as pd\n",
    "import requests\n",
    "import logging\n",
    "from typing import List, Optional\n",
    "from requests.exceptions import RequestException"
   ]
  },
  {
   "cell_type": "code",
   "execution_count": 31,
   "id": "735c955b",
   "metadata": {},
   "outputs": [],
   "source": [
    "# Configurar logging\n",
    "logging.basicConfig(level=logging.INFO, format=\"%(asctime)s - %(levelname)s - %(message)s\")\n",
    "logger = logging.getLogger(__name__)"
   ]
  },
  {
   "cell_type": "code",
   "execution_count": 32,
   "id": "8a39d90c",
   "metadata": {},
   "outputs": [],
   "source": [
    "# Configuración de archivos y endpoints\n",
    "#ruta_hired_employees = \"archivos/hired_employees.csv\"\n",
    "ruta_hired_employees = \"archivos/employees2.csv\"\n",
    "ruta_departments = \"archivos/departments.csv\"\n",
    "ruta_jobs = \"archivos/Jobs.csv\""
   ]
  },
  {
   "cell_type": "code",
   "execution_count": 33,
   "id": "bb174eac",
   "metadata": {},
   "outputs": [],
   "source": [
    "columns_names_hired_employees = [\"id\", \"name\", \"datetime\", \"department_id\", \"job_id\"]\n",
    "columns_names_departments = [\"id\", \"department\"]\n",
    "columns_names_jobs = [\"id\", \"job\"]"
   ]
  },
  {
   "cell_type": "code",
   "execution_count": 34,
   "id": "de90f6bb",
   "metadata": {},
   "outputs": [],
   "source": [
    "API_URL_hired_employees = \"http://localhost:8000/hired_employees/batch_insert\"\n",
    "API_URL_deparments = \"http://localhost:8000/departments/batch_insert\"\n",
    "API_URL_jobs = \"http://localhost:8000/jobs/batch_insert\""
   ]
  },
  {
   "cell_type": "code",
   "execution_count": 35,
   "id": "624ee5ba",
   "metadata": {},
   "outputs": [],
   "source": [
    "def leer_csv_en_chunks(ruta: str, chunk_size: int) -> pd.io.parsers.TextFileReader:\n",
    "    \"\"\"Lee un archivo CSV por chunks.\"\"\"\n",
    "    return pd.read_csv(ruta, header=None, chunksize=chunk_size)"
   ]
  },
  {
   "cell_type": "code",
   "execution_count": 36,
   "id": "d0e17de4",
   "metadata": {},
   "outputs": [],
   "source": [
    "def transformar_chunk(chunk: pd.DataFrame, columnas: List[str]) -> pd.DataFrame:\n",
    "    \"\"\"Asigna columnas, convierte tipos y reemplaza NaN por None.\"\"\"\n",
    "    chunk.columns = columnas\n",
    "    chunk = chunk.astype(object)\n",
    "    return chunk.where(pd.notnull(chunk), None)"
   ]
  },
  {
   "cell_type": "code",
   "execution_count": 37,
   "id": "f649fe0b",
   "metadata": {},
   "outputs": [],
   "source": [
    "def convertir_a_json(chunk: pd.DataFrame) -> List[dict]:\n",
    "    \"\"\"Convierte un DataFrame a lista de diccionarios (JSON).\"\"\"\n",
    "    return chunk.to_dict(orient=\"records\")"
   ]
  },
  {
   "cell_type": "code",
   "execution_count": 38,
   "id": "3d80d13b",
   "metadata": {},
   "outputs": [],
   "source": [
    "def enviar_a_api(api_url: str, data: List[dict]) -> Optional[requests.Response]:\n",
    "    \"\"\"Envía datos en formato JSON a la API y devuelve la respuesta.\"\"\"\n",
    "    try:\n",
    "        response = requests.post(api_url, json=data, timeout=10)\n",
    "        response.raise_for_status()\n",
    "        return response\n",
    "    except RequestException as e:\n",
    "        # Mostrar el contenido de la respuesta si está disponible\n",
    "        if hasattr(e, 'response') and e.response is not None:\n",
    "            logger.error(f\"Error al enviar datos a la API ({api_url}): {e.response.text}\")\n",
    "        else:\n",
    "            logger.error(f\"Error al enviar datos a la API ({api_url}): {e}\")\n",
    "        return None"
   ]
  },
  {
   "cell_type": "code",
   "execution_count": null,
   "id": "0a916c98",
   "metadata": {},
   "outputs": [],
   "source": [
    "def procesar_y_enviar_csv(\n",
    "    ruta: str,\n",
    "    columnas: List[str],\n",
    "    api_url: str,\n",
    "    chunk_size: int = 2000\n",
    ") -> None:\n",
    "    \"\"\"Proceso completo de lectura, transformación y envío a API.\"\"\"\n",
    "    for i, chunk in enumerate(leer_csv_en_chunks(ruta, chunk_size)):\n",
    "        df = transformar_chunk(chunk, columnas)\n",
    "        json_data = convertir_a_json(df)\n",
    "        response = enviar_a_api(api_url, json_data)\n",
    "\n",
    "        if response:\n",
    "            logger.info(f\"[{api_url}] Chunk {i+1} enviado con éxito ({len(json_data)} registros)\")\n",
    "        else:\n",
    "            logger.error(f\"[{api_url}] Error en el envío del chunk {i+1}\")\n",
    "            break  # Detener en caso de error"
   ]
  },
  {
   "cell_type": "code",
   "execution_count": 40,
   "id": "13dee901",
   "metadata": {},
   "outputs": [],
   "source": [
    "def main() -> None:\n",
    "    \"\"\"Función principal del proceso ETL.\"\"\"\n",
    "    logger.info(\"Iniciando carga de datos...\")\n",
    "\n",
    "    procesar_y_enviar_csv(ruta_departments, columns_names_departments, API_URL_deparments)\n",
    "    procesar_y_enviar_csv(ruta_jobs, columns_names_jobs, API_URL_jobs)\n",
    "    procesar_y_enviar_csv(ruta_hired_employees, columns_names_hired_employees, API_URL_hired_employees)\n",
    "\n",
    "    logger.info(\"Carga de datos finalizada.\")"
   ]
  },
  {
   "cell_type": "code",
   "execution_count": 43,
   "id": "a2339ab0",
   "metadata": {},
   "outputs": [
    {
     "name": "stderr",
     "output_type": "stream",
     "text": [
      "2025-08-10 23:57:47,425 - INFO - Iniciando carga de datos...\n",
      "2025-08-10 23:57:49,508 - INFO - [http://localhost:8000/departments/batch_insert] Chunk 1 enviado con éxito (12 registros)\n",
      "2025-08-10 23:57:51,580 - INFO - [http://localhost:8000/jobs/batch_insert] Chunk 1 enviado con éxito (183 registros)\n",
      "2025-08-10 23:57:53,687 - ERROR - Error al enviar datos a la API (http://localhost:8000/hired_employees/batch_insert): {\"detail\":\"No puedes insertar más de 2000 registros por petición\"}\n",
      "2025-08-10 23:57:53,688 - ERROR - [http://localhost:8000/hired_employees/batch_insert] Error en el envío del chunk 1\n",
      "2025-08-10 23:57:53,690 - INFO - Carga de datos finalizada.\n"
     ]
    }
   ],
   "source": [
    "if __name__ == \"__main__\":\n",
    "    main()"
   ]
  }
 ],
 "metadata": {
  "kernelspec": {
   "display_name": "venv",
   "language": "python",
   "name": "python3"
  },
  "language_info": {
   "codemirror_mode": {
    "name": "ipython",
    "version": 3
   },
   "file_extension": ".py",
   "mimetype": "text/x-python",
   "name": "python",
   "nbconvert_exporter": "python",
   "pygments_lexer": "ipython3",
   "version": "3.13.3"
  }
 },
 "nbformat": 4,
 "nbformat_minor": 5
}
