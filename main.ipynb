{
 "cells": [
  {
   "cell_type": "code",
   "execution_count": 13,
   "id": "07597e27",
   "metadata": {},
   "outputs": [],
   "source": [
    "import pandas as pd\n",
    "import requests\n",
    "import logging\n",
    "from typing import List, Optional\n",
    "from requests.exceptions import RequestException"
   ]
  },
  {
   "cell_type": "code",
   "execution_count": 14,
   "id": "735c955b",
   "metadata": {},
   "outputs": [],
   "source": [
    "# Configurar logging\n",
    "logging.basicConfig(level=logging.INFO, format=\"%(asctime)s - %(levelname)s - %(message)s\")\n",
    "logger = logging.getLogger(__name__)"
   ]
  },
  {
   "cell_type": "code",
   "execution_count": 15,
   "id": "8a39d90c",
   "metadata": {},
   "outputs": [],
   "source": [
    "# Configuración de archivos y endpoints\n",
    "#ruta_hired_employees = \"archivos/hired_employees.csv\"\n",
    "ruta_hired_employees = \"archivos/employees.csv\"\n",
    "ruta_departments = \"archivos/departments.csv\"\n",
    "ruta_jobs = \"archivos/Jobs.csv\""
   ]
  },
  {
   "cell_type": "code",
   "execution_count": 16,
   "id": "bb174eac",
   "metadata": {},
   "outputs": [],
   "source": [
    "columns_names_hired_employees = [\"id\", \"name\", \"datetime\", \"department_id\", \"job_id\"]\n",
    "columns_names_departments = [\"id\", \"department\"]\n",
    "columns_names_jobs = [\"id\", \"job\"]"
   ]
  },
  {
   "cell_type": "code",
   "execution_count": 17,
   "id": "de90f6bb",
   "metadata": {},
   "outputs": [],
   "source": [
    "API_URL_hired_employees = \"http://localhost:8000/hired_employees/batch_insert\"\n",
    "API_URL_deparments = \"http://localhost:8000/departments/batch_insert\"\n",
    "API_URL_jobs = \"http://localhost:8000/jobs/batch_insert\""
   ]
  },
  {
   "cell_type": "code",
   "execution_count": 18,
   "id": "624ee5ba",
   "metadata": {},
   "outputs": [],
   "source": [
    "def leer_csv_en_chunks(ruta: str, chunk_size: int) -> pd.io.parsers.TextFileReader:\n",
    "    \"\"\"Lee un archivo CSV por chunks.\"\"\"\n",
    "    return pd.read_csv(ruta, header=None, chunksize=chunk_size)"
   ]
  },
  {
   "cell_type": "code",
   "execution_count": 19,
   "id": "d0e17de4",
   "metadata": {},
   "outputs": [],
   "source": [
    "def transformar_chunk(chunk: pd.DataFrame, columnas: List[str]) -> pd.DataFrame:\n",
    "    \"\"\"Asigna columnas, convierte tipos y reemplaza NaN por None.\"\"\"\n",
    "    chunk.columns = columnas\n",
    "    chunk = chunk.astype(object)\n",
    "    return chunk.where(pd.notnull(chunk), None)"
   ]
  },
  {
   "cell_type": "code",
   "execution_count": 20,
   "id": "f649fe0b",
   "metadata": {},
   "outputs": [],
   "source": [
    "def convertir_a_json(chunk: pd.DataFrame) -> List[dict]:\n",
    "    \"\"\"Convierte un DataFrame a lista de diccionarios (JSON).\"\"\"\n",
    "    return chunk.to_dict(orient=\"records\")"
   ]
  },
  {
   "cell_type": "code",
   "execution_count": 21,
   "id": "3d80d13b",
   "metadata": {},
   "outputs": [],
   "source": [
    "def enviar_a_api(api_url: str, data: List[dict]) -> Optional[requests.Response]:\n",
    "    \"\"\"Envía datos en formato JSON a la API y devuelve la respuesta.\"\"\"\n",
    "    try:\n",
    "        response = requests.post(api_url, json=data, timeout=10)\n",
    "        response.raise_for_status()\n",
    "        return response\n",
    "    except RequestException as e:\n",
    "        # Mostrar el contenido de la respuesta si está disponible\n",
    "        if hasattr(e, 'response') and e.response is not None:\n",
    "            logger.error(f\"Error al enviar datos a la API ({api_url}): {e.response.text}\")\n",
    "        else:\n",
    "            logger.error(f\"Error al enviar datos a la API ({api_url}): {e}\")\n",
    "        return None"
   ]
  },
  {
   "cell_type": "code",
   "execution_count": 22,
   "id": "0a916c98",
   "metadata": {},
   "outputs": [],
   "source": [
    "def procesar_y_enviar_csv(\n",
    "    ruta: str,\n",
    "    columnas: List[str],\n",
    "    api_url: str,\n",
    "    chunk_size: int = 5000\n",
    ") -> None:\n",
    "    \"\"\"Proceso completo de lectura, transformación y envío a API.\"\"\"\n",
    "    for i, chunk in enumerate(leer_csv_en_chunks(ruta, chunk_size)):\n",
    "        df = transformar_chunk(chunk, columnas)\n",
    "        json_data = convertir_a_json(df)\n",
    "        response = enviar_a_api(api_url, json_data)\n",
    "\n",
    "        if response:\n",
    "            logger.info(f\"[{api_url}] Chunk {i+1} enviado con éxito ({len(json_data)} registros)\")\n",
    "        else:\n",
    "            logger.error(f\"[{api_url}] Error en el envío del chunk {i+1}\")\n",
    "            break  # Detener en caso de error"
   ]
  },
  {
   "cell_type": "code",
   "execution_count": 23,
   "id": "13dee901",
   "metadata": {},
   "outputs": [],
   "source": [
    "def main() -> None:\n",
    "    \"\"\"Función principal del proceso ETL.\"\"\"\n",
    "    logger.info(\"Iniciando carga de datos...\")\n",
    "\n",
    "    procesar_y_enviar_csv(ruta_departments, columns_names_departments, API_URL_deparments)\n",
    "    procesar_y_enviar_csv(ruta_jobs, columns_names_jobs, API_URL_jobs)\n",
    "    procesar_y_enviar_csv(ruta_hired_employees, columns_names_hired_employees, API_URL_hired_employees)\n",
    "\n",
    "    logger.info(\"Carga de datos finalizada.\")"
   ]
  },
  {
   "cell_type": "code",
   "execution_count": 25,
   "id": "a2339ab0",
   "metadata": {},
   "outputs": [
    {
     "name": "stderr",
     "output_type": "stream",
     "text": [
      "2025-08-12 23:20:06,209 - INFO - Iniciando carga de datos...\n",
      "2025-08-12 23:20:08,276 - INFO - [http://localhost:8000/departments/batch_insert] Chunk 1 enviado con éxito (12 registros)\n",
      "2025-08-12 23:20:10,360 - INFO - [http://localhost:8000/jobs/batch_insert] Chunk 1 enviado con éxito (183 registros)\n",
      "2025-08-12 23:20:12,655 - INFO - [http://localhost:8000/hired_employees/batch_insert] Chunk 1 enviado con éxito (5000 registros)\n",
      "2025-08-12 23:20:14,927 - INFO - [http://localhost:8000/hired_employees/batch_insert] Chunk 2 enviado con éxito (5000 registros)\n",
      "2025-08-12 23:20:17,157 - INFO - [http://localhost:8000/hired_employees/batch_insert] Chunk 3 enviado con éxito (5000 registros)\n",
      "2025-08-12 23:20:19,409 - INFO - [http://localhost:8000/hired_employees/batch_insert] Chunk 4 enviado con éxito (5000 registros)\n",
      "2025-08-12 23:20:21,661 - INFO - [http://localhost:8000/hired_employees/batch_insert] Chunk 5 enviado con éxito (5000 registros)\n",
      "2025-08-12 23:20:23,902 - INFO - [http://localhost:8000/hired_employees/batch_insert] Chunk 6 enviado con éxito (5000 registros)\n",
      "2025-08-12 23:20:26,121 - INFO - [http://localhost:8000/hired_employees/batch_insert] Chunk 7 enviado con éxito (5000 registros)\n",
      "2025-08-12 23:20:28,344 - INFO - [http://localhost:8000/hired_employees/batch_insert] Chunk 8 enviado con éxito (5000 registros)\n",
      "2025-08-12 23:20:30,566 - INFO - [http://localhost:8000/hired_employees/batch_insert] Chunk 9 enviado con éxito (5000 registros)\n",
      "2025-08-12 23:20:32,823 - INFO - [http://localhost:8000/hired_employees/batch_insert] Chunk 10 enviado con éxito (5000 registros)\n",
      "2025-08-12 23:20:35,060 - INFO - [http://localhost:8000/hired_employees/batch_insert] Chunk 11 enviado con éxito (5000 registros)\n",
      "2025-08-12 23:20:37,327 - INFO - [http://localhost:8000/hired_employees/batch_insert] Chunk 12 enviado con éxito (5000 registros)\n",
      "2025-08-12 23:20:39,537 - INFO - [http://localhost:8000/hired_employees/batch_insert] Chunk 13 enviado con éxito (5000 registros)\n",
      "2025-08-12 23:20:41,753 - INFO - [http://localhost:8000/hired_employees/batch_insert] Chunk 14 enviado con éxito (5000 registros)\n",
      "2025-08-12 23:20:43,975 - INFO - [http://localhost:8000/hired_employees/batch_insert] Chunk 15 enviado con éxito (5000 registros)\n",
      "2025-08-12 23:20:46,187 - INFO - [http://localhost:8000/hired_employees/batch_insert] Chunk 16 enviado con éxito (5000 registros)\n",
      "2025-08-12 23:20:48,408 - INFO - [http://localhost:8000/hired_employees/batch_insert] Chunk 17 enviado con éxito (5000 registros)\n",
      "2025-08-12 23:20:50,637 - INFO - [http://localhost:8000/hired_employees/batch_insert] Chunk 18 enviado con éxito (5000 registros)\n",
      "2025-08-12 23:20:52,838 - INFO - [http://localhost:8000/hired_employees/batch_insert] Chunk 19 enviado con éxito (5000 registros)\n",
      "2025-08-12 23:20:55,076 - INFO - [http://localhost:8000/hired_employees/batch_insert] Chunk 20 enviado con éxito (5000 registros)\n",
      "2025-08-12 23:20:57,255 - INFO - [http://localhost:8000/hired_employees/batch_insert] Chunk 21 enviado con éxito (5000 registros)\n",
      "2025-08-12 23:20:59,452 - INFO - [http://localhost:8000/hired_employees/batch_insert] Chunk 22 enviado con éxito (5000 registros)\n",
      "2025-08-12 23:21:01,675 - INFO - [http://localhost:8000/hired_employees/batch_insert] Chunk 23 enviado con éxito (5000 registros)\n",
      "2025-08-12 23:21:03,896 - INFO - [http://localhost:8000/hired_employees/batch_insert] Chunk 24 enviado con éxito (5000 registros)\n",
      "2025-08-12 23:21:06,130 - INFO - [http://localhost:8000/hired_employees/batch_insert] Chunk 25 enviado con éxito (5000 registros)\n",
      "2025-08-12 23:21:08,374 - INFO - [http://localhost:8000/hired_employees/batch_insert] Chunk 26 enviado con éxito (5000 registros)\n",
      "2025-08-12 23:21:10,576 - INFO - [http://localhost:8000/hired_employees/batch_insert] Chunk 27 enviado con éxito (5000 registros)\n",
      "2025-08-12 23:21:12,807 - INFO - [http://localhost:8000/hired_employees/batch_insert] Chunk 28 enviado con éxito (5000 registros)\n",
      "2025-08-12 23:21:15,013 - INFO - [http://localhost:8000/hired_employees/batch_insert] Chunk 29 enviado con éxito (5000 registros)\n",
      "2025-08-12 23:21:17,229 - INFO - [http://localhost:8000/hired_employees/batch_insert] Chunk 30 enviado con éxito (5000 registros)\n",
      "2025-08-12 23:21:19,491 - INFO - [http://localhost:8000/hired_employees/batch_insert] Chunk 31 enviado con éxito (5000 registros)\n",
      "2025-08-12 23:21:21,700 - INFO - [http://localhost:8000/hired_employees/batch_insert] Chunk 32 enviado con éxito (5000 registros)\n",
      "2025-08-12 23:21:23,918 - INFO - [http://localhost:8000/hired_employees/batch_insert] Chunk 33 enviado con éxito (5000 registros)\n",
      "2025-08-12 23:21:26,145 - INFO - [http://localhost:8000/hired_employees/batch_insert] Chunk 34 enviado con éxito (5000 registros)\n",
      "2025-08-12 23:21:28,352 - INFO - [http://localhost:8000/hired_employees/batch_insert] Chunk 35 enviado con éxito (5000 registros)\n",
      "2025-08-12 23:21:30,567 - INFO - [http://localhost:8000/hired_employees/batch_insert] Chunk 36 enviado con éxito (5000 registros)\n",
      "2025-08-12 23:21:32,808 - INFO - [http://localhost:8000/hired_employees/batch_insert] Chunk 37 enviado con éxito (5000 registros)\n",
      "2025-08-12 23:21:35,025 - INFO - [http://localhost:8000/hired_employees/batch_insert] Chunk 38 enviado con éxito (5000 registros)\n",
      "2025-08-12 23:21:37,270 - INFO - [http://localhost:8000/hired_employees/batch_insert] Chunk 39 enviado con éxito (5000 registros)\n",
      "2025-08-12 23:21:39,530 - INFO - [http://localhost:8000/hired_employees/batch_insert] Chunk 40 enviado con éxito (5000 registros)\n",
      "2025-08-12 23:21:39,533 - INFO - Carga de datos finalizada.\n"
     ]
    }
   ],
   "source": [
    "if __name__ == \"__main__\":\n",
    "    main()"
   ]
  }
 ],
 "metadata": {
  "kernelspec": {
   "display_name": "venv",
   "language": "python",
   "name": "python3"
  },
  "language_info": {
   "codemirror_mode": {
    "name": "ipython",
    "version": 3
   },
   "file_extension": ".py",
   "mimetype": "text/x-python",
   "name": "python",
   "nbconvert_exporter": "python",
   "pygments_lexer": "ipython3",
   "version": "3.13.3"
  }
 },
 "nbformat": 4,
 "nbformat_minor": 5
}
